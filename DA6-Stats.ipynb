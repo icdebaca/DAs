{
 "cells": [
  {
   "cell_type": "markdown",
   "metadata": {},
   "source": [
    "# [CPSC 222](https://github.com/GonzagaCPSC222) Intro to Data Science\n",
    "[Gonzaga University](https://www.gonzaga.edu/)\n",
    "\n",
    "[Gina Sprint](http://cs.gonzaga.edu/faculty/sprint/)\n",
    "## DA6 Stats (75 pts)\n",
    "\n",
    "## Learner Objectives\n",
    "At the conclusion of this programming assignment, participants should be able to:\n",
    "* Compute summary statistics manually and using Python/NumPy/SciPy/Pandas\n",
    "* Perform hypothesis testing using t-tests manually and using SciPy\n",
    " \n",
    "## Prerequisites\n",
    "Before starting this programming assignment, participants should be able to:\n",
    "* Use Jupyter Notebook to tell a data science story\n",
    "* Use pandas for data analysis\n",
    "* Use matplotlib to visualize data\n",
    "\n",
    "## Acknowledgments\n",
    "Content used in this assignment is based upon information in the following sources:\n",
    "* TBA"
   ]
  },
  {
   "cell_type": "markdown",
   "metadata": {},
   "source": [
    "## Github Classroom Setup\n",
    "For this assignment, you will use GitHub Classroom to create a private code repositories to track code changes and submit your assignment. Open this DA6 link to accept the assignment and create a private repository for your assignment in Github classroom: https://classroom.github.com/a/Xwah501Z\n",
    "\n",
    "Your repo, for example, will be named GonzagaCPSC222/da6-yourusername (where yourusername is your Github username). I highly recommend committing/pushing regularly so your work is always backed up. We will grade your most recent commit, even if that commit is after the due date (your work will be marked late if this is the case)."
   ]
  },
  {
   "cell_type": "markdown",
   "metadata": {},
   "source": [
    "## Manual Stats Exercises (25 pts)\n",
    "In a Jupyter Notebook called ManualStats.ipynb, we are going to manually (e.g. by hand) compute several calculations on the following two samples of data, where S1 and S2 are the number of Git commits each student made on their assignments (PA3-PA9) in CPSC 122-01 and CPSC 122-02, respectively:\n",
    "\n",
    "S1: 38, 49, 38, 52, 34, 27, 70, 43, 27, 31, 4, 46, 32, 51, 28, 36, 7, 30, 23, 52, 35, 52, 75, 50, 9  \n",
    "S2: 72, 73, 59, 53, 7, 55, 47, 19, 151, 11, 18, 20, 58, 69, 17, 42, 51, 27, 75, 30, 49, 64, 62, 34, 116\n",
    "\n",
    "For each of the following calculations, show your work in a Markdown cell by typesetting the formula you use with Latex and showing the mathematical steps you take with Markdown and/or Latex.\n",
    "1. (1 pt) S1 Mid value\n",
    "1. (1 pt) S1 Mean\n",
    "1. (1 pt) S1 Median\n",
    "1. (1 pt) S1 Mode\n",
    "1. (1 pt) S1 Range\n",
    "1. (2 pts) S1 Quartiles\n",
    "1. (2 pts) S1 Variance (sample)\n",
    "1. (2 pts) S1 Standard deviation (sample)\n",
    "1. (2 pts) S1 95% confidence interval for the population mean\n",
    "1. (2 pts) S2 99% confidence interval for the population mean\n",
    "1. (5 pts) Did the S1 students on average commit more than 35 times? That would be about 7 commits per assignment. Use a level of significance of 0.05.\n",
    "    1. Are the results from the confidence interval and the hypothesis testing consistent?\n",
    "    1. Show detailed manual calculations for each step of the 5 step hypothesis testing approach\n",
    "1. (5 pts) Did the S2 students commit more on average than the S1 students? Use a level of significance of 0.05.\n",
    "    1. Show detailed manual calculations for each step of the 5 step hypothesis testing approach\n",
    "Note: while not required for these manual problems, I encourage you to check your work with Pandas/SciPy in a Python cell following each of your calculations above."
   ]
  },
  {
   "cell_type": "markdown",
   "metadata": {},
   "source": [
    "## SciPy Hypothesis Tests Exercises (30 pts)\n",
    "In a Jupyter Notebook called SciPyHypoTests.ipynb, we are going to make statistical inferences using several datasets and hypothesis testing. For each of the following exercises, describe the problem, data, and how you know what type of hypothesis test to perform (e.g. one vs two-sampled, one vs two-tailed, etc.) Then, perform the 5 step hypothesis testing approach with interleaved Markdown and Python cells explaining and showing your work with SciPy (note that you do not need to show detailed steps for your calculations, but you do need to show how/where you computed relevant values for each of the 5 steps).\n",
    "1. (5 pts) Using the inpatient rehabilitation dataset from DA4, is the mean age of Pulmonary Disorders (disorders related to lungs; RIC #14) different from the mean age of Cardiac Disorders (disorders related to the heart; RIC #15)? Use a level of significance of 0.01.\n",
    "1. (5 pts) Using the inpatient rehabilitation dataset from DA4, is the mean age of women who have a stroke greater than the mean age of men who have a stroke? Use a level of significance of 0.01.\n",
    "1. (5 pts) Download the IQ1_quiz_durations.csv file from the DAs repo on Github: https://github.com/GonzagaCPSC222/DAs/blob/master/files. This CSV file contains all of the IQ1 durations for all three of my classes this semester. Each IQ1 duration (expressed as a fraction of an hour) is coupled with whether or not the student was in-person when they took the quiz or not (0 means they took it remotely, 1 means they took it in-person in the classroom). Using this IQ1 dataset, is the mean total time for students who take the quiz remotely greater than for stuents who take the quiz in the classroom? Use a level of significance of 0.005.\n",
    "1. (5 pts) Download the circuit_trials.csv file from the DAs repo on Github: https://github.com/GonzagaCPSC222/DAs/blob/master/files. This CSV file contains circuit durations (in seconds) for 27 subjects. A circuit consisted of performing several tasks like standing up from a chair, walking, and loading into a vehicle. Each subject completed the circuit at two different points in time, one week apart, producing two trials, A and B. During the week between trials, subjects received therapy services to improve their ability to perform the circuit. Using this circuit dataset, is the mean circuit duration for subjects at trial B less than it was at trial A (meaning, did the subjects perform the circuit faster after one week of physical therapy)?\n",
    "1. (10 pts) Download the piazza_222_users.json and piazza_315_users.json files from the DAs repo on Github: https://github.com/GonzagaCPSC222/DAs/blob/master/files. These JSON files contain the student activity from my CPSC 222 and CPSC 315 classes so far this semester. Note that I have removed identifying information and shuffled the order of the JSON array. The attributes include \"days\" (number of days online), \"posts\", \"asks\", \"answers\", and \"views.\" Using this Piazza dataset, what interesting statistical inferences and conclusions do you find?\n",
    "\n",
    "Note: the code for the above exercises does not need to be modular (e.g. you don't need to write functions)."
   ]
  },
  {
   "cell_type": "markdown",
   "metadata": {},
   "source": [
    "### Bonus (5 pts)\n",
    "Find an unauthenticated API from https://github.com/public-apis/public-apis that returns numeric data you can use with hypothesis testing. Describe the API, the data, and your hypothesis. Follow the 5 step hypothesis testing approach. Be sure to cite your sources!!"
   ]
  },
  {
   "cell_type": "markdown",
   "metadata": {},
   "source": [
    "## Data Ethics (15 pts)\n",
    "Read [Amazon scraps secret AI recruiting tool that showed bias against women](https://www.reuters.com/article/us-amazon-com-jobs-automation-insight-idUSKCN1MK08G). Also, at least read the following abstract from [\"Are Emily and Greg More Employable Than Lakisha and\n",
    "Jamal? A Field Experiment on Labor Market Discrimination\"](https://cos.gatech.edu/facultyres/Diversity_Studies/Bertrand_LakishaJamal.pdf). This is a highly cited research paper written in 2004. Here is the abstract:\n",
    ">We study race in the labor market by sending fictitious resumes to help-wanted ads\n",
    "in Boston and Chicago newspapers. To manipulate perceived race, resumes are\n",
    "randomly assigned African-American- or White-sounding names. White names\n",
    "receive 50 percent more callbacks for interviews. Callbacks are also more responsive to resume quality for White names than for African-American ones. The racial\n",
    "gap is uniform across occupation, industry, and employer size. We also find little\n",
    "evidence that employers are inferring social class from the names. Differential\n",
    "treatment by race still appears to still be prominent in the U.S. labor market. (JEL\n",
    "J71, J64).\n",
    "\n",
    "In a Jupyter Notebook called Ethics.ipynb, provide your reflection on the following discussion points:\n",
    "1. A false positive occurs when a classification algorithm labels an instance as \"positive\" when its actually \"negative.\" A false negative occurs when a classification algorithm labels an instance as \"negative\" when its actually \"positive.\" In the case of the Amazon recruiting tool, an example of a false negative would be a \"5-star\" female candidate being labeled by the algorithm as a \"1-star.\" Assuming no perfectly accurate recruiting algorithm exists yet (e.g. one that only classifies true positives and true negatives), a company that uses such an algorithm is trying to spend less time/money on human recruiters/hiring managers at the expense of accuracy/fairness. At what balance is this trade-off worth it? Is this time supposedly saved by hiring managers time spent elsewhere?\n",
    "1. The article states that job candidates are not likely to know that an automatic screening tool reviewed their resume, or to hear back about what their rating is and why. The latter part of this statement was also the case prior to the age of automation, where you could apply for a job and also never hear back about your evaluation. What (if anything) is different about being denied an opportunity to advance based on an algorithmic decision versus a human decision? Aren't they both biased? \n",
    "1. Language is constantly evolving and the meaning of a single word/phrase is both dynamic and dependent on context. The article describes how \"masculine language\", like the verbs \"executed\" and \"captured\", was favored by the machine learning algorithm. You can imagine an attribute/feature used in the historical dataset like a boolean `contains_action_verbs` or a float `action_verb_score`. Since we know a feedback loop to update/improve a model is super important from our readings in Weapons of Math Destruction, could this model's preference for masculine language be improved? Is it worth improving?\n",
    "1. What else struck you about this article?\n",
    "\n",
    "This write-up should be written using full sentences and should be grammaticallly correct. Proof read your writing before you submit it!!"
   ]
  },
  {
   "cell_type": "markdown",
   "metadata": {},
   "source": [
    "## Submitting Assignments\n",
    "1. Use Github classroom to submit your assignment via a Github repo. See the \"Github Classroom Setup\" section at the beginning of this document for details on how to do this. You must commit your solution by the due date and time.\n",
    "1. Your repo should contain only your .ipynb file(s) and your .csv or .json file(s). Double check that this is the case by cloning (or downloading a zip) your submission repo and running your code from Jupyter Lab like we will when we grade your code."
   ]
  },
  {
   "cell_type": "markdown",
   "metadata": {},
   "source": [
    "## Grading Guidelines\n",
    "This assignment is worth 75 points + 5 points bonus. Your assignment will be evaluated based on a successful execution in Jupyter Lab (using the Anaconda Python Distribution v3.8) and adherence to the program requirements. We will grade according to the following criteria:\n",
    "* 25 pts for correct manual stats and clearly described hand calculations\n",
    "* 30 pts for correct stats and clearly described Python calculations\n",
    "* 5 pts for adherence to course [coding standard](https://nbviewer.jupyter.org/github/GonzagaCPSC222/DAs/blob/master/Coding%20Standard.ipynb)\n",
    "* 15 pts for quality, clarity, and creativity in the data ethics write-up"
   ]
  }
 ],
 "metadata": {
  "anaconda-cloud": {},
  "kernelspec": {
   "display_name": "Python 3",
   "language": "python",
   "name": "python3"
  },
  "language_info": {
   "codemirror_mode": {
    "name": "ipython",
    "version": 3
   },
   "file_extension": ".py",
   "mimetype": "text/x-python",
   "name": "python",
   "nbconvert_exporter": "python",
   "pygments_lexer": "ipython3",
   "version": "3.7.6"
  }
 },
 "nbformat": 4,
 "nbformat_minor": 4
}
